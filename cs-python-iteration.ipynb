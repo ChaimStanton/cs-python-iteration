{
 "cells": [
  {
   "cell_type": "markdown",
   "metadata": {},
   "source": [
    "# Practicing FOR Loop in Python\n",
    "\n",
    "Remember you can use:\n",
    "\n",
    "FOR or counting loops\n",
    "\n",
    "for loopVar in range(start, stop, step):\n",
    "    #indent - do loop stuff\n",
    "\n",
    "#dedent - loop is done. Do more stuff"
   ]
  },
  {
   "cell_type": "markdown",
   "metadata": {},
   "source": [
    "## Example - sumTo(num): takes a number as a parameter and adds all the numbers from 1 to that number\n",
    "The sumTo function has been done for you."
   ]
  },
  {
   "cell_type": "code",
   "execution_count": 1,
   "metadata": {},
   "outputs": [],
   "source": [
    "#This function sums up all the numbers from 1 to num\n",
    "def sumTo(num):\n",
    "    sum=0\n",
    "    for i in range(1,num+1):\n",
    "        sum+=i # keep adding i into the sum - same as sum = sum +i\n",
    "    return sum"
   ]
  },
  {
   "cell_type": "markdown",
   "metadata": {},
   "source": [
    "See how the loop in the code above goes from 1 (inclusive) up to num+1 (but not including)?\n",
    "\n",
    "Also, see the line:\n",
    "\n",
    "sum+=i\n",
    "This will keep adding the loop index i into the sum. It is cummulative! It is the same as:\n",
    "\n",
    "sum = sum+i\n",
    "Run the code below to see the function in action and check for errors:"
   ]
  },
  {
   "cell_type": "code",
   "execution_count": 2,
   "metadata": {},
   "outputs": [
    {
     "data": {
      "text/plain": [
       "5050"
      ]
     },
     "execution_count": 2,
     "metadata": {},
     "output_type": "execute_result"
    }
   ],
   "source": [
    "#run the function\n",
    "sumTo(100)"
   ]
  },
  {
   "cell_type": "markdown",
   "metadata": {},
   "source": [
    "## Task 1: Write a python program to find the sum of all even numbers from 0 to 10"
   ]
  },
  {
   "cell_type": "code",
   "execution_count": 3,
   "metadata": {},
   "outputs": [
    {
     "name": "stdout",
     "output_type": "stream",
     "text": [
      "55\n"
     ]
    }
   ],
   "source": [
    "sumOfAll = 0\n",
    "for number in range(11):\n",
    "    sumOfAll += number\n",
    "print(sumOfAll)"
   ]
  },
  {
   "cell_type": "markdown",
   "metadata": {},
   "source": [
    "## Task 2: Write a function that takes a number and adds all the numbers squared between 1 and num (eg 1+4+9 + 16 etc)"
   ]
  },
  {
   "cell_type": "code",
   "execution_count": 4,
   "metadata": {},
   "outputs": [
    {
     "name": "stdout",
     "output_type": "stream",
     "text": [
      "Number 0\n",
      "Squares 0\n",
      "Number 1\n",
      "Squares 1\n",
      "Number 2\n",
      "Squares 5\n",
      "Number 3\n",
      "Squares 14\n",
      "Number 4\n",
      "Squares 30\n",
      "Number 5\n",
      "Squares 55\n"
     ]
    },
    {
     "data": {
      "text/plain": [
       "55"
      ]
     },
     "execution_count": 4,
     "metadata": {},
     "output_type": "execute_result"
    }
   ],
   "source": [
    "# num is the input parameter give to the function\n",
    "\n",
    "def squaresTo(number):\n",
    "    \"\"\"Takes a number and adds all the numbers that are squared between that number and the next square\"\"\"\n",
    "    squares = 0\n",
    "    #add your code with the required loop here\n",
    "    for number in range(number+1):\n",
    "        squares += number**2\n",
    "        print(\"Number\", number)\n",
    "        print(\"Squares\", squares)\n",
    "    return squares\n",
    "squaresTo(5)"
   ]
  },
  {
   "cell_type": "markdown",
   "metadata": {},
   "source": [
    "## Task 3: Write a function which takes a number and returns true if a number is a prime. \n",
    "Eg primeTest(17) = true, primeTest(15)=false"
   ]
  },
  {
   "cell_type": "code",
   "execution_count": null,
   "metadata": {},
   "outputs": [],
   "source": [
    "def isItPrime(numberToTest):\n",
    "    isPrime = True # Start by assuming the number is prime\n",
    "    counter = 2\n",
    "    while isPrime and counter <= numberToTest - 1:\n",
    "        if numberToTest%counter == 0:\n",
    "            # the number is not prime\n",
    "            isPrime = False\n",
    "        counter += 1\n",
    "    return isPrime\n"
   ]
  },
  {
   "cell_type": "code",
   "execution_count": null,
   "metadata": {},
   "outputs": [],
   "source": [
    "# run the function\n",
    "isItPrime(16)"
   ]
  },
  {
   "cell_type": "markdown",
   "metadata": {},
   "source": [
    "## Task 4: The sequence 1,4,9,16,25 is made up of square numbers (i.e.1=12, 4 = 22, 9=32 etc.). Write a program that writes out all the square numbers under 500."
   ]
  },
  {
   "cell_type": "code",
   "execution_count": null,
   "metadata": {},
   "outputs": [],
   "source": [
    "#write your code here\n",
    "\n",
    "def primeList(max):\n",
    "    listPrimes = []\n",
    "    for number in range(max):\n",
    "        if isItPrime(number):\n",
    "            listPrimes.append(number)\n",
    "    return listPrimes\n",
    "\n",
    "primeList(500)"
   ]
  },
  {
   "cell_type": "markdown",
   "metadata": {},
   "source": [
    "## Extension task: Write a Python program to construct the following pattern, using a nested for loop. \n",
    "\n",
    "@\n",
    "\n",
    "@@\n",
    "\n",
    "@@@\n",
    "\n",
    "@@@@\n",
    "\n",
    "@@@\n",
    "\n",
    "@@\n",
    "\n",
    "@\n"
   ]
  },
  {
   "cell_type": "code",
   "execution_count": 20,
   "metadata": {},
   "outputs": [
    {
     "name": "stdout",
     "output_type": "stream",
     "text": [
      "@@@@@"
     ]
    }
   ],
   "source": [
    "def emailSignPrint(numberOfSigns):\n",
    "    for atSign in range(numberOfSigns):\n",
    "        print(\"@\", end=\" \")#space was left there diliberatley to space it out\n",
    "emailSignPrint(5)"
   ]
  },
  {
   "cell_type": "code",
   "execution_count": 54,
   "metadata": {},
   "outputs": [
    {
     "name": "stdout",
     "output_type": "stream",
     "text": [
      "\n",
      "@\n",
      "@@\n",
      "@@@\n",
      "@@@@\n",
      "@@@\n",
      "@@\n",
      "@\n"
     ]
    }
   ],
   "source": [
    "# write your code here\n",
    "#Hint:Nested for loop is a for loop within a for loop \n",
    "#max = 4\n",
    "numberOfLines = int(input(\"How many lines do \"))\n",
    "for i in range(8):\n",
    "    if i > 4:\n",
    "        emailSignPrint(8-i)\n",
    "    else: # the value is smaller then 4\n",
    "        emailSignPrint(i)\n",
    "    print() # for a new line\n"
   ]
  },
  {
   "cell_type": "code",
   "execution_count": null,
   "metadata": {},
   "outputs": [],
   "source": []
  }
 ],
 "metadata": {
  "kernelspec": {
   "display_name": "Python 3",
   "language": "python",
   "name": "python3"
  },
  "language_info": {
   "codemirror_mode": {
    "name": "ipython",
    "version": 3
   },
   "file_extension": ".py",
   "mimetype": "text/x-python",
   "name": "python",
   "nbconvert_exporter": "python",
   "pygments_lexer": "ipython3",
   "version": "3.6.5"
  }
 },
 "nbformat": 4,
 "nbformat_minor": 2
}
